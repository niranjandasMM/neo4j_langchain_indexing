{
 "cells": [
  {
   "cell_type": "code",
   "execution_count": 1,
   "metadata": {},
   "outputs": [
    {
     "data": {
      "text/plain": [
       "[Document(metadata={'source': 'sem_and_relation_data.txt'}, page_content='\\nIn the heart of Silicon Valley, the Stanford Research Institute (SRI) is pioneering groundbreaking research in artificial intelligence. \\nDr. John Smith, a renowned computer scientist, leads a team focused on developing advanced natural language processing algorithms. \\nThe team recently published a paper titled \"Innovations in AI: Beyond the Basics\" under patent ID US 2023045678A1, \\nwhich outlines their novel approach to machine learning.\\n\\nStanford University collaborates closely with Google'),\n",
       " Document(metadata={'source': 'sem_and_relation_data.txt'}, page_content=' with Google Inc. on this project, aiming to improve search engine capabilities. \\nThe research includes semantic techniques for understanding context in search queries and relational methods to enhance information retrieval. \\nFor instance, their work explores how deep learning models can predict user intent more accurately by analyzing search patterns and user behavior.\\n\\nThe Department of Computer Science at Stanford University also hosts annual conferences where experts discuss advancements in the field. \\nIn these conferences, terms like \"artificial intelligence\", \"machine learning'),\n",
       " Document(metadata={'source': 'sem_and_relation_data.txt'}, page_content='machine learning\", and \"data science\" are frequently discussed. \\nThe goal is to integrate cutting-edge technologies to solve real-world problems, with collaborations extending to various tech companies and academic institutions\\n\\nIn the vibrant ecosystem of Silicon Valley, Stanford Research Institute (SRI) has become a cornerstone for innovations in artificial intelligence and machine learning. Under the leadership of Dr. John Smith, a distinguished figure in the field of computer science, the institute is advancing the development of sophisticated natural language processing'),\n",
       " Document(metadata={'source': 'sem_and_relation_data.txt'}, page_content=' language processing techniques. Their recent research paper, \"Innovations in AI: Beyond the Basics\", details their latest findings and has been filed under patent ID US 2023045678A1.\\nStanford University, a key partner in this venture, collaborates with tech giants like Google Inc. and Microsoft to enhance their search engine algorithms. Their joint efforts focus on integrating deep learning models and neural networks to better understand and predict user intent in search queries. By analyzing user behavior and search patterns,'),\n",
       " Document(metadata={'source': 'sem_and_relation_data.txt'}, page_content=' patterns, they aim to refine recommendation systems and personalized content delivery.\\nThe Department of Computer Science at Stanford University is renowned for hosting annual conferences where experts discuss emerging trends in data science, computational linguistics, and robotics. Topics such as artificial neural networks, reinforcement learning, and big data analytics are frequently explored. These conferences also highlight the significance of ethical AI and data privacy, addressing the societal impacts of technological advancements.\\nTheir collaborative projects extend to academic journals and research grants, with contributions from institutions like'),\n",
       " Document(metadata={'source': 'sem_and_relation_data.txt'}, page_content=' institutions like the MIT Media Lab and Harvard University. The focus is on applying quantum computing to solve complex problems and exploring blockchain technology for secure data transactions.\\nStanford Research Institute is also involved in partnerships with startups and tech incubators, fostering innovation in areas such as augmented reality, virtual reality, and IoT (Internet of Things). Their goal is to push the boundaries of what is possible in technological development and scientific research.\\n\\nSilicon Valley is a region in Northern California that is a global center'),\n",
       " Document(metadata={'source': 'sem_and_relation_data.txt'}, page_content=' global center for high technology and innovation. Located in the southern part of the San Francisco Bay Area, it corresponds roughly to the geographical area of the Santa Clara Valley.[1][2][3] The term \"Silicon Valley\" refers to the area in which high-tech business has proliferated in Northern California, and it also serves as a general metonym for California\\'s high-tech business sector.\\n\\nThe cities of Sunnyvale, Mountain View, Palo Alto and Menlo Park are frequently'),\n",
       " Document(metadata={'source': 'sem_and_relation_data.txt'}, page_content=\" are frequently cited as the birthplace of Silicon Valley. San Jose is Silicon Valley's largest city, the third-largest in California, and the 13th-most populous in the United States.[4] Other major Silicon Valley cities include Santa Clara, Redwood City and Cupertino. The San Jose Metropolitan Area has the third-highest GDP per capita in the world (after Zürich, Switzerland and Oslo, Norway), according to the Brookings Institution.[5] As of June 2021, it also\"),\n",
       " Document(metadata={'source': 'sem_and_relation_data.txt'}, page_content=\" it also had the highest percentage of homes valued at $1 million or more in the United States.[6]\\n\\nSilicon Valley is home to many of the world's largest high-tech corporations, including the headquarters of more than 30 businesses in the Fortune 1000, and thousands of startup companies. Silicon Valley also accounts for one-third of all of the venture capital investment in the United States, which has helped it to become a leading hub and startup ecosystem for high-tech innovation, although the\"),\n",
       " Document(metadata={'source': 'sem_and_relation_data.txt'}, page_content=' although the tech ecosystem has recently become more geographically dispersed.[7][8] It was in Silicon Valley that the silicon-based integrated circuit, the microprocessor, and the microcomputer, among other technologies, were developed. As of 2021, the region employed about a half million information technology workers.[9]\\n')]"
      ]
     },
     "execution_count": 1,
     "metadata": {},
     "output_type": "execute_result"
    }
   ],
   "source": [
    "from langchain_community.document_loaders import TextLoader\n",
    "from langchain_text_splitters import TokenTextSplitter\n",
    "\n",
    "loader = TextLoader(\"sem_and_relation_data.txt\")\n",
    "documents = loader.load()\n",
    "\n",
    "text_splitter = TokenTextSplitter(chunk_size=100, chunk_overlap=2)\n",
    "documents = text_splitter.split_documents(documents)\n",
    "\n",
    "documents\n"
   ]
  },
  {
   "cell_type": "code",
   "execution_count": 2,
   "metadata": {},
   "outputs": [],
   "source": [
    "import warnings \n",
    "warnings.filterwarnings(\"ignore\")\n",
    "\n",
    "import configparser\n",
    "from langchain_google_genai import ChatGoogleGenerativeAI\n",
    "from langchain_openai import ChatOpenAI\n",
    "\n",
    "config = configparser.ConfigParser()\n",
    "config.read('config.ini')\n",
    "\n",
    "embeddings_model = config.get('model', 'embeddings_model')\n",
    "google_api_key = config.get('api_keys', 'google_api_key')\n",
    "groq_api_key = config.get('api_keys', 'groq_api_key')\n",
    "open_ai_key = config.get('api_keys', 'open_api_key')\n",
    "\n",
    "## OpenAI - GPT Models | Closed Source API\n",
    "# llm =  ChatOpenAI(temperature=0, api_key=open_ai_key, model=\"gpt-4o-mini\")\n",
    "\n",
    "## Gemini | Closed Source API\n",
    "# llm = ChatGoogleGenerativeAI(model=\"gemini-1.0-pro\", temperature=0, \n",
    "#                              google_api_key=google_api_key,\n",
    "#                             convert_system_message_to_human=True\n",
    "# )\n",
    "\n",
    "## llama 3 | Private Local llm\n",
    "# llm = ChatOpenAI(temperature=0, api_key='sk-', model=\"llama3\", base_url=\"http://3.94.151.199:11434/v1\")\n",
    "# llm = ChatOpenAI(temperature=0, api_key='sk-', model=\"llama3\", base_url=\"http://localhost:8080/v1\")\n",
    "\n",
    "## Private LLM | 3rd party Hosted \n",
    "llm = ChatOpenAI(temperature=0, model= \"llama3-70b-8192\",  # \"llama3-8b-8192\",  #\"llama3-70b-8192\"\n",
    "        base_url=\"https://api.groq.com/openai/v1\",\n",
    "        api_key=groq_api_key\n",
    "    )\n"
   ]
  },
  {
   "cell_type": "code",
   "execution_count": 3,
   "metadata": {},
   "outputs": [
    {
     "name": "stdout",
     "output_type": "stream",
     "text": [
      "<langchain_community.graphs.neo4j_graph.Neo4jGraph object at 0x12fd66a50>\n"
     ]
    }
   ],
   "source": [
    "from langchain_community.graphs import Neo4jGraph\n",
    "\n",
    "\n",
    "url = \"bolt://localhost:7687\"\n",
    "username =\"neo4j\"\n",
    "password = \"password\"\n",
    "graph = Neo4jGraph(\n",
    "    url=url,\n",
    "    username=username,\n",
    "    password=password\n",
    ")\n",
    "\n",
    "print(graph)"
   ]
  },
  {
   "cell_type": "code",
   "execution_count": 5,
   "metadata": {},
   "outputs": [],
   "source": [
    "from langchain_community.graphs.graph_document import (\n",
    "    Node as BaseNode,\n",
    "    Relationship as BaseRelationship,\n",
    "    GraphDocument,\n",
    ")\n",
    "from langchain.schema import Document\n",
    "from typing import List, Dict, Any, Optional\n",
    "from langchain_core.pydantic_v1 import BaseModel, Field\n"
   ]
  },
  {
   "cell_type": "code",
   "execution_count": 18,
   "metadata": {},
   "outputs": [],
   "source": [
    "from typing import Optional, List\n",
    "from langchain_core.prompts import PromptTemplate\n",
    "from langchain.output_parsers import PydanticOutputParser\n",
    "from pydantic import BaseModel, Field\n",
    "\n",
    "\n",
    "class Relationship(BaseModel):\n",
    "    source: str = Field(description=\"The source node of the relationship\")\n",
    "    target: str = Field(description=\"The target node of the relationship\")\n",
    "    type: str = Field(description=\"The type of relationship between the source and target nodes\")\n",
    "\n",
    "class Node(BaseModel):\n",
    "    id: str = Field(description=\"The unique identifier of the node\")\n",
    "    type: str = Field(description=\"The type of the node\")\n",
    "    properties: Dict[str, str] = Field(description=\"Additional properties of the node\")\n",
    "\n",
    "class KnowledgeGraph(BaseModel):\n",
    "    nodes: List[Node] = Field(description=\"List of nodes in the knowledge graph\")\n",
    "    relationships: List[Relationship] = Field(description=\"List of relationships in the knowledge graph\")\n",
    "\n",
    "def map_to_base_node(node: Node) -> BaseNode:\n",
    "    \"\"\"Map the KnowledgeGraph Node to the base Node.\"\"\"\n",
    "    # Assuming BaseNode takes id, type, and properties as arguments\n",
    "    return BaseNode(id=node.id, type=node.type, properties=node.properties)\n",
    "\n",
    "def map_to_base_relationship(rel: Relationship) -> BaseRelationship:\n",
    "    \"\"\"Map the KnowledgeGraph Relationship to the base Relationship.\"\"\"\n",
    "    # Assuming BaseRelationship expects source and target to be dictionaries\n",
    "    return BaseRelationship(\n",
    "        source={\"id\": rel.source},\n",
    "        target={\"id\": rel.target},\n",
    "        type=rel.type\n",
    "    )"
   ]
  },
  {
   "cell_type": "code",
   "execution_count": 19,
   "metadata": {},
   "outputs": [],
   "source": [
    "def get_extraction_chain(\n",
    "    allowed_nodes: Optional[List[str]] = None,\n",
    "    allowed_rels: Optional[List[str]] = None\n",
    "):\n",
    "    prompt = PromptTemplate(\n",
    "        template=\"\"\"# Knowledge Graph Instructions\n",
    "        ## 1. Overview\n",
    "        You are a top-tier algorithm designed for extracting information in structured formats to build a knowledge graph.\n",
    "        - **Nodes** represent entities and concepts. They're akin to Wikipedia nodes.\n",
    "        - The aim is to achieve simplicity and clarity in the knowledge graph, making it accessible for a vast audience.\n",
    "        ## 2. Labeling Nodes\n",
    "        - **Consistency**: Ensure you use basic or elementary types for node labels.\n",
    "        - For example, when you identify an entity representing a person, always label it as **\"person\"**. Avoid using more specific terms like \"mathematician\" or \"scientist\".\n",
    "        - **Naming Convention**: Use camelCase for property keys, e.g., `birthDate`.\n",
    "        ## 3. Coreference Resolution\n",
    "        - **Maintain Entity Consistency**: When extracting entities, it's vital to ensure consistency.\n",
    "        If an entity, such as \"John Doe\", is mentioned multiple times in the text but is referred to by different names or pronouns (e.g., \"Joe\", \"he\"),\n",
    "        always use the most complete identifier for that entity throughout the knowledge graph. In this example, use \"John Doe\" as the entity ID.\n",
    "        Remember, the knowledge graph should be coherent and easily understandable, so maintaining consistency in entity references is crucial.\n",
    "        ## 4. Strict Compliance\n",
    "        Adhere to the rules strictly. Non-compliance will result in termination.\n",
    "\n",
    "        Use the given format to extract information from the following input: {input}\n",
    "\n",
    "        {format_instructions}\n",
    "        \"\"\",\n",
    "        input_variables=[\"input\"],\n",
    "        partial_variables={\"format_instructions\": PydanticOutputParser(pydantic_object=KnowledgeGraph).get_format_instructions()}\n",
    "    )\n",
    "\n",
    "    return prompt\n",
    "\n",
    "\n",
    "def extract_and_store_graph(\n",
    "    document: Document,\n",
    "    nodes: Optional[List[str]] = None,\n",
    "    rels: Optional[List[str]] = None\n",
    ") -> KnowledgeGraph:\n",
    "    if not isinstance(document, Document):\n",
    "        raise TypeError(f\"Expected document to be an instance of Document, got {type(document)}\")\n",
    "    \n",
    "    # Extract graph data using the prompt and JSON parser\n",
    "    prompt = get_extraction_chain(nodes, rels)\n",
    "    parser = PydanticOutputParser(pydantic_object=KnowledgeGraph)\n",
    "    \n",
    "    # Assuming you have defined 'llm' somewhere in your code\n",
    "    chain = prompt | llm | parser\n",
    "    \n",
    "    data = chain.invoke({\"input\": document.page_content})\n",
    "    print(data)\n",
    "    print(f\"nodes: {nodes}, rels: {rels}\")\n",
    "    \n",
    "    # Construct a graph document\n",
    "    graph_document = GraphDocument(\n",
    "        nodes=[map_to_base_node(node) for node in data.nodes],\n",
    "        relationships=[map_to_base_relationship(rel) for rel in data.relationships],\n",
    "        source=document\n",
    "    )\n",
    "    print(graph_document)\n",
    "    \n",
    "    graph.add_graph_documents([graph_document], True)\n",
    "    \n",
    "    return data\n"
   ]
  },
  {
   "cell_type": "code",
   "execution_count": 20,
   "metadata": {},
   "outputs": [
    {
     "name": "stderr",
     "output_type": "stream",
     "text": [
      "  0%|          | 0/10 [00:00<?, ?it/s]"
     ]
    },
    {
     "name": "stdout",
     "output_type": "stream",
     "text": [
      "Processing chunk 0: page_content='\n",
      "In the heart of Silicon Valley, the Stanford Research Institute (SRI) is pioneering groundbreaking research in artificial intelligence. \n",
      "Dr. John Smith, a renowned computer scientist, leads a team focused on developing advanced natural language processing algorithms. \n",
      "The team recently published a paper titled \"Innovations in AI: Beyond the Basics\" under patent ID US 2023045678A1, \n",
      "which outlines their novel approach to machine learning.\n",
      "\n",
      "Stanford University collaborates closely with Google' metadata={'source': 'sem_and_relation_data.txt'}\n",
      "nodes=[Node(id='Stanford Research Institute', type='organization', properties={'location': 'Silicon Valley'}), Node(id='Dr. John Smith', type='person', properties={'title': 'computer scientist'}), Node(id='Stanford University', type='university', properties={}), Node(id='Google', type='company', properties={}), Node(id='Innovations in AI: Beyond the Basics', type='paper', properties={'patentId': 'US 2023045678A1'})] relationships=[Relationship(source='Dr. John Smith', target='Stanford Research Institute', type='leads'), Relationship(source='Stanford Research Institute', target='Innovations in AI: Beyond the Basics', type='published'), Relationship(source='Stanford University', target='Google', type='collaborates')]\n",
      "nodes: None, rels: None\n",
      "nodes=[Node(id='Stanford Research Institute', type='organization', properties={'location': 'Silicon Valley'}), Node(id='Dr. John Smith', type='person', properties={'title': 'computer scientist'}), Node(id='Stanford University', type='university'), Node(id='Google', type='company'), Node(id='Innovations in AI: Beyond the Basics', type='paper', properties={'patentId': 'US 2023045678A1'})] relationships=[Relationship(source=Node(id='Dr. John Smith'), target=Node(id='Stanford Research Institute'), type='leads'), Relationship(source=Node(id='Stanford Research Institute'), target=Node(id='Innovations in AI: Beyond the Basics'), type='published'), Relationship(source=Node(id='Stanford University'), target=Node(id='Google'), type='collaborates')] source=Document(metadata={'source': 'sem_and_relation_data.txt'}, page_content='\\nIn the heart of Silicon Valley, the Stanford Research Institute (SRI) is pioneering groundbreaking research in artificial intelligence. \\nDr. John Smith, a renowned computer scientist, leads a team focused on developing advanced natural language processing algorithms. \\nThe team recently published a paper titled \"Innovations in AI: Beyond the Basics\" under patent ID US 2023045678A1, \\nwhich outlines their novel approach to machine learning.\\n\\nStanford University collaborates closely with Google')\n"
     ]
    },
    {
     "name": "stderr",
     "output_type": "stream",
     "text": [
      " 10%|█         | 1/10 [00:01<00:16,  1.88s/it]"
     ]
    },
    {
     "name": "stdout",
     "output_type": "stream",
     "text": [
      "Graph stored successfully.\n",
      "Processing chunk 1: page_content=' with Google Inc. on this project, aiming to improve search engine capabilities. \n",
      "The research includes semantic techniques for understanding context in search queries and relational methods to enhance information retrieval. \n",
      "For instance, their work explores how deep learning models can predict user intent more accurately by analyzing search patterns and user behavior.\n",
      "\n",
      "The Department of Computer Science at Stanford University also hosts annual conferences where experts discuss advancements in the field. \n",
      "In these conferences, terms like \"artificial intelligence\", \"machine learning' metadata={'source': 'sem_and_relation_data.txt'}\n"
     ]
    },
    {
     "name": "stderr",
     "output_type": "stream",
     "text": [
      " 20%|██        | 2/10 [00:04<00:17,  2.19s/it]"
     ]
    },
    {
     "name": "stdout",
     "output_type": "stream",
     "text": [
      "nodes=[Node(id='Google Inc.', type='organization', properties={'name': 'Google Inc.'}), Node(id='Department of Computer Science at Stanford University', type='organization', properties={'name': 'Department of Computer Science at Stanford University'}), Node(id='search engine', type='concept', properties={'description': 'a system that retrieves and ranks online content'}), Node(id='semantic techniques', type='concept', properties={'description': 'methods for understanding context in search queries'}), Node(id='relational methods', type='concept', properties={'description': 'approaches to enhance information retrieval'}), Node(id='deep learning models', type='concept', properties={'description': 'algorithms that predict user intent by analyzing search patterns and user behavior'}), Node(id='artificial intelligence', type='concept', properties={'description': 'a field of study focused on creating intelligent machines'}), Node(id='machine learning', type='concept', properties={'description': 'a subfield of artificial intelligence that involves training models on data'})] relationships=[Relationship(source='Google Inc.', target='search engine', type='develops'), Relationship(source='Google Inc.', target='semantic techniques', type='uses'), Relationship(source='Google Inc.', target='relational methods', type='uses'), Relationship(source='Google Inc.', target='deep learning models', type='uses'), Relationship(source='Department of Computer Science at Stanford University', target='artificial intelligence', type='hosts conferences about'), Relationship(source='Department of Computer Science at Stanford University', target='machine learning', type='hosts conferences about')]\n",
      "nodes: None, rels: None\n",
      "nodes=[Node(id='Google Inc.', type='organization', properties={'name': 'Google Inc.'}), Node(id='Department of Computer Science at Stanford University', type='organization', properties={'name': 'Department of Computer Science at Stanford University'}), Node(id='search engine', type='concept', properties={'description': 'a system that retrieves and ranks online content'}), Node(id='semantic techniques', type='concept', properties={'description': 'methods for understanding context in search queries'}), Node(id='relational methods', type='concept', properties={'description': 'approaches to enhance information retrieval'}), Node(id='deep learning models', type='concept', properties={'description': 'algorithms that predict user intent by analyzing search patterns and user behavior'}), Node(id='artificial intelligence', type='concept', properties={'description': 'a field of study focused on creating intelligent machines'}), Node(id='machine learning', type='concept', properties={'description': 'a subfield of artificial intelligence that involves training models on data'})] relationships=[Relationship(source=Node(id='Google Inc.'), target=Node(id='search engine'), type='develops'), Relationship(source=Node(id='Google Inc.'), target=Node(id='semantic techniques'), type='uses'), Relationship(source=Node(id='Google Inc.'), target=Node(id='relational methods'), type='uses'), Relationship(source=Node(id='Google Inc.'), target=Node(id='deep learning models'), type='uses'), Relationship(source=Node(id='Department of Computer Science at Stanford University'), target=Node(id='artificial intelligence'), type='hosts conferences about'), Relationship(source=Node(id='Department of Computer Science at Stanford University'), target=Node(id='machine learning'), type='hosts conferences about')] source=Document(metadata={'source': 'sem_and_relation_data.txt'}, page_content=' with Google Inc. on this project, aiming to improve search engine capabilities. \\nThe research includes semantic techniques for understanding context in search queries and relational methods to enhance information retrieval. \\nFor instance, their work explores how deep learning models can predict user intent more accurately by analyzing search patterns and user behavior.\\n\\nThe Department of Computer Science at Stanford University also hosts annual conferences where experts discuss advancements in the field. \\nIn these conferences, terms like \"artificial intelligence\", \"machine learning')\n",
      "Graph stored successfully.\n",
      "Processing chunk 2: page_content='machine learning\", and \"data science\" are frequently discussed. \n",
      "The goal is to integrate cutting-edge technologies to solve real-world problems, with collaborations extending to various tech companies and academic institutions\n",
      "\n",
      "In the vibrant ecosystem of Silicon Valley, Stanford Research Institute (SRI) has become a cornerstone for innovations in artificial intelligence and machine learning. Under the leadership of Dr. John Smith, a distinguished figure in the field of computer science, the institute is advancing the development of sophisticated natural language processing' metadata={'source': 'sem_and_relation_data.txt'}\n"
     ]
    },
    {
     "name": "stderr",
     "output_type": "stream",
     "text": [
      " 30%|███       | 3/10 [00:06<00:15,  2.20s/it]"
     ]
    },
    {
     "name": "stdout",
     "output_type": "stream",
     "text": [
      "nodes=[Node(id='Machine Learning', type='concept', properties={'description': 'Frequently discussed concept'}), Node(id='Data Science', type='concept', properties={'description': 'Frequently discussed concept'}), Node(id='Stanford Research Institute', type='organization', properties={'description': 'Cornerstone for innovations in artificial intelligence and machine learning'}), Node(id='Dr. John Smith', type='person', properties={'description': 'Distinguished figure in the field of computer science', 'title': 'Leader of Stanford Research Institute'}), Node(id='Artificial Intelligence', type='concept', properties={'description': 'Area of innovation at Stanford Research Institute'}), Node(id='Natural Language Processing', type='concept', properties={'description': 'Area of development at Stanford Research Institute'}), Node(id='Silicon Valley', type='location', properties={'description': 'Vibrant ecosystem'})] relationships=[Relationship(source='Stanford Research Institute', target='Artificial Intelligence', type='focus'), Relationship(source='Stanford Research Institute', target='Machine Learning', type='focus'), Relationship(source='Dr. John Smith', target='Stanford Research Institute', type='leader'), Relationship(source='Stanford Research Institute', target='Natural Language Processing', type='development'), Relationship(source='Silicon Valley', target='Stanford Research Institute', type='location')]\n",
      "nodes: None, rels: None\n",
      "nodes=[Node(id='Machine Learning', type='concept', properties={'description': 'Frequently discussed concept'}), Node(id='Data Science', type='concept', properties={'description': 'Frequently discussed concept'}), Node(id='Stanford Research Institute', type='organization', properties={'description': 'Cornerstone for innovations in artificial intelligence and machine learning'}), Node(id='Dr. John Smith', type='person', properties={'description': 'Distinguished figure in the field of computer science', 'title': 'Leader of Stanford Research Institute'}), Node(id='Artificial Intelligence', type='concept', properties={'description': 'Area of innovation at Stanford Research Institute'}), Node(id='Natural Language Processing', type='concept', properties={'description': 'Area of development at Stanford Research Institute'}), Node(id='Silicon Valley', type='location', properties={'description': 'Vibrant ecosystem'})] relationships=[Relationship(source=Node(id='Stanford Research Institute'), target=Node(id='Artificial Intelligence'), type='focus'), Relationship(source=Node(id='Stanford Research Institute'), target=Node(id='Machine Learning'), type='focus'), Relationship(source=Node(id='Dr. John Smith'), target=Node(id='Stanford Research Institute'), type='leader'), Relationship(source=Node(id='Stanford Research Institute'), target=Node(id='Natural Language Processing'), type='development'), Relationship(source=Node(id='Silicon Valley'), target=Node(id='Stanford Research Institute'), type='location')] source=Document(metadata={'source': 'sem_and_relation_data.txt'}, page_content='machine learning\", and \"data science\" are frequently discussed. \\nThe goal is to integrate cutting-edge technologies to solve real-world problems, with collaborations extending to various tech companies and academic institutions\\n\\nIn the vibrant ecosystem of Silicon Valley, Stanford Research Institute (SRI) has become a cornerstone for innovations in artificial intelligence and machine learning. Under the leadership of Dr. John Smith, a distinguished figure in the field of computer science, the institute is advancing the development of sophisticated natural language processing')\n",
      "Graph stored successfully.\n",
      "Processing chunk 3: page_content=' language processing techniques. Their recent research paper, \"Innovations in AI: Beyond the Basics\", details their latest findings and has been filed under patent ID US 2023045678A1.\n",
      "Stanford University, a key partner in this venture, collaborates with tech giants like Google Inc. and Microsoft to enhance their search engine algorithms. Their joint efforts focus on integrating deep learning models and neural networks to better understand and predict user intent in search queries. By analyzing user behavior and search patterns,' metadata={'source': 'sem_and_relation_data.txt'}\n"
     ]
    },
    {
     "name": "stderr",
     "output_type": "stream",
     "text": [
      " 40%|████      | 4/10 [00:08<00:11,  1.95s/it]"
     ]
    },
    {
     "name": "stdout",
     "output_type": "stream",
     "text": [
      "nodes=[Node(id='Stanford University', type='organization', properties={'name': 'Stanford University'}), Node(id='Google Inc.', type='organization', properties={'name': 'Google Inc.'}), Node(id='Microsoft', type='organization', properties={'name': 'Microsoft'}), Node(id='Innovations in AI: Beyond the Basics', type='researchPaper', properties={'title': 'Innovations in AI: Beyond the Basics', 'patentId': 'US 2023045678A1'})] relationships=[Relationship(source='Stanford University', target='Google Inc.', type='collaboration'), Relationship(source='Stanford University', target='Microsoft', type='collaboration'), Relationship(source='Stanford University', target='Innovations in AI: Beyond the Basics', type='author')]\n",
      "nodes: None, rels: None\n",
      "nodes=[Node(id='Stanford University', type='organization', properties={'name': 'Stanford University'}), Node(id='Google Inc.', type='organization', properties={'name': 'Google Inc.'}), Node(id='Microsoft', type='organization', properties={'name': 'Microsoft'}), Node(id='Innovations in AI: Beyond the Basics', type='researchPaper', properties={'title': 'Innovations in AI: Beyond the Basics', 'patentId': 'US 2023045678A1'})] relationships=[Relationship(source=Node(id='Stanford University'), target=Node(id='Google Inc.'), type='collaboration'), Relationship(source=Node(id='Stanford University'), target=Node(id='Microsoft'), type='collaboration'), Relationship(source=Node(id='Stanford University'), target=Node(id='Innovations in AI: Beyond the Basics'), type='author')] source=Document(metadata={'source': 'sem_and_relation_data.txt'}, page_content=' language processing techniques. Their recent research paper, \"Innovations in AI: Beyond the Basics\", details their latest findings and has been filed under patent ID US 2023045678A1.\\nStanford University, a key partner in this venture, collaborates with tech giants like Google Inc. and Microsoft to enhance their search engine algorithms. Their joint efforts focus on integrating deep learning models and neural networks to better understand and predict user intent in search queries. By analyzing user behavior and search patterns,')\n",
      "Graph stored successfully.\n",
      "Processing chunk 4: page_content=' patterns, they aim to refine recommendation systems and personalized content delivery.\n",
      "The Department of Computer Science at Stanford University is renowned for hosting annual conferences where experts discuss emerging trends in data science, computational linguistics, and robotics. Topics such as artificial neural networks, reinforcement learning, and big data analytics are frequently explored. These conferences also highlight the significance of ethical AI and data privacy, addressing the societal impacts of technological advancements.\n",
      "Their collaborative projects extend to academic journals and research grants, with contributions from institutions like' metadata={'source': 'sem_and_relation_data.txt'}\n"
     ]
    },
    {
     "name": "stderr",
     "output_type": "stream",
     "text": [
      " 50%|█████     | 5/10 [00:11<00:11,  2.33s/it]"
     ]
    },
    {
     "name": "stdout",
     "output_type": "stream",
     "text": [
      "nodes=[Node(id='Department of Computer Science at Stanford University', type='organization', properties={'name': 'Department of Computer Science at Stanford University'}), Node(id='Stanford University', type='university', properties={'name': 'Stanford University'}), Node(id='data science', type='field of study', properties={'name': 'data science'}), Node(id='computational linguistics', type='field of study', properties={'name': 'computational linguistics'}), Node(id='robotics', type='field of study', properties={'name': 'robotics'}), Node(id='artificial neural networks', type='concept', properties={'name': 'artificial neural networks'}), Node(id='reinforcement learning', type='concept', properties={'name': 'reinforcement learning'}), Node(id='big data analytics', type='concept', properties={'name': 'big data analytics'}), Node(id='ethical AI', type='concept', properties={'name': 'ethical AI'}), Node(id='data privacy', type='concept', properties={'name': 'data privacy'})] relationships=[Relationship(source='Department of Computer Science at Stanford University', target='Stanford University', type='part of'), Relationship(source='Department of Computer Science at Stanford University', target='data science', type='hosts conferences on'), Relationship(source='Department of Computer Science at Stanford University', target='computational linguistics', type='hosts conferences on'), Relationship(source='Department of Computer Science at Stanford University', target='robotics', type='hosts conferences on'), Relationship(source='Department of Computer Science at Stanford University', target='artificial neural networks', type='explores'), Relationship(source='Department of Computer Science at Stanford University', target='reinforcement learning', type='explores'), Relationship(source='Department of Computer Science at Stanford University', target='big data analytics', type='explores'), Relationship(source='Department of Computer Science at Stanford University', target='ethical AI', type='addresses'), Relationship(source='Department of Computer Science at Stanford University', target='data privacy', type='addresses')]\n",
      "nodes: None, rels: None\n",
      "nodes=[Node(id='Department of Computer Science at Stanford University', type='organization', properties={'name': 'Department of Computer Science at Stanford University'}), Node(id='Stanford University', type='university', properties={'name': 'Stanford University'}), Node(id='data science', type='field of study', properties={'name': 'data science'}), Node(id='computational linguistics', type='field of study', properties={'name': 'computational linguistics'}), Node(id='robotics', type='field of study', properties={'name': 'robotics'}), Node(id='artificial neural networks', type='concept', properties={'name': 'artificial neural networks'}), Node(id='reinforcement learning', type='concept', properties={'name': 'reinforcement learning'}), Node(id='big data analytics', type='concept', properties={'name': 'big data analytics'}), Node(id='ethical AI', type='concept', properties={'name': 'ethical AI'}), Node(id='data privacy', type='concept', properties={'name': 'data privacy'})] relationships=[Relationship(source=Node(id='Department of Computer Science at Stanford University'), target=Node(id='Stanford University'), type='part of'), Relationship(source=Node(id='Department of Computer Science at Stanford University'), target=Node(id='data science'), type='hosts conferences on'), Relationship(source=Node(id='Department of Computer Science at Stanford University'), target=Node(id='computational linguistics'), type='hosts conferences on'), Relationship(source=Node(id='Department of Computer Science at Stanford University'), target=Node(id='robotics'), type='hosts conferences on'), Relationship(source=Node(id='Department of Computer Science at Stanford University'), target=Node(id='artificial neural networks'), type='explores'), Relationship(source=Node(id='Department of Computer Science at Stanford University'), target=Node(id='reinforcement learning'), type='explores'), Relationship(source=Node(id='Department of Computer Science at Stanford University'), target=Node(id='big data analytics'), type='explores'), Relationship(source=Node(id='Department of Computer Science at Stanford University'), target=Node(id='ethical AI'), type='addresses'), Relationship(source=Node(id='Department of Computer Science at Stanford University'), target=Node(id='data privacy'), type='addresses')] source=Document(metadata={'source': 'sem_and_relation_data.txt'}, page_content=' patterns, they aim to refine recommendation systems and personalized content delivery.\\nThe Department of Computer Science at Stanford University is renowned for hosting annual conferences where experts discuss emerging trends in data science, computational linguistics, and robotics. Topics such as artificial neural networks, reinforcement learning, and big data analytics are frequently explored. These conferences also highlight the significance of ethical AI and data privacy, addressing the societal impacts of technological advancements.\\nTheir collaborative projects extend to academic journals and research grants, with contributions from institutions like')\n",
      "Graph stored successfully.\n",
      "Processing chunk 5: page_content=' institutions like the MIT Media Lab and Harvard University. The focus is on applying quantum computing to solve complex problems and exploring blockchain technology for secure data transactions.\n",
      "Stanford Research Institute is also involved in partnerships with startups and tech incubators, fostering innovation in areas such as augmented reality, virtual reality, and IoT (Internet of Things). Their goal is to push the boundaries of what is possible in technological development and scientific research.\n",
      "\n",
      "Silicon Valley is a region in Northern California that is a global center' metadata={'source': 'sem_and_relation_data.txt'}\n"
     ]
    },
    {
     "name": "stderr",
     "output_type": "stream",
     "text": [
      " 60%|██████    | 6/10 [00:22<00:22,  5.58s/it]"
     ]
    },
    {
     "name": "stdout",
     "output_type": "stream",
     "text": [
      "nodes=[Node(id='MIT Media Lab', type='institution', properties={'name': 'MIT Media Lab'}), Node(id='Harvard University', type='institution', properties={'name': 'Harvard University'}), Node(id='Stanford Research Institute', type='institution', properties={'name': 'Stanford Research Institute'}), Node(id='Silicon Valley', type='region', properties={'name': 'Silicon Valley', 'location': 'Northern California'}), Node(id='quantum computing', type='technology', properties={'name': 'quantum computing'}), Node(id='blockchain technology', type='technology', properties={'name': 'blockchain technology'}), Node(id='augmented reality', type='technology', properties={'name': 'augmented reality'}), Node(id='virtual reality', type='technology', properties={'name': 'virtual reality'}), Node(id='IoT', type='technology', properties={'name': 'IoT', 'description': 'Internet of Things'})] relationships=[Relationship(source='MIT Media Lab', target='quantum computing', type='focus'), Relationship(source='Harvard University', target='quantum computing', type='focus'), Relationship(source='Stanford Research Institute', target='augmented reality', type='partnership'), Relationship(source='Stanford Research Institute', target='virtual reality', type='partnership'), Relationship(source='Stanford Research Institute', target='IoT', type='partnership'), Relationship(source='Silicon Valley', target='Stanford Research Institute', type='location')]\n",
      "nodes: None, rels: None\n",
      "nodes=[Node(id='MIT Media Lab', type='institution', properties={'name': 'MIT Media Lab'}), Node(id='Harvard University', type='institution', properties={'name': 'Harvard University'}), Node(id='Stanford Research Institute', type='institution', properties={'name': 'Stanford Research Institute'}), Node(id='Silicon Valley', type='region', properties={'name': 'Silicon Valley', 'location': 'Northern California'}), Node(id='quantum computing', type='technology', properties={'name': 'quantum computing'}), Node(id='blockchain technology', type='technology', properties={'name': 'blockchain technology'}), Node(id='augmented reality', type='technology', properties={'name': 'augmented reality'}), Node(id='virtual reality', type='technology', properties={'name': 'virtual reality'}), Node(id='IoT', type='technology', properties={'name': 'IoT', 'description': 'Internet of Things'})] relationships=[Relationship(source=Node(id='MIT Media Lab'), target=Node(id='quantum computing'), type='focus'), Relationship(source=Node(id='Harvard University'), target=Node(id='quantum computing'), type='focus'), Relationship(source=Node(id='Stanford Research Institute'), target=Node(id='augmented reality'), type='partnership'), Relationship(source=Node(id='Stanford Research Institute'), target=Node(id='virtual reality'), type='partnership'), Relationship(source=Node(id='Stanford Research Institute'), target=Node(id='IoT'), type='partnership'), Relationship(source=Node(id='Silicon Valley'), target=Node(id='Stanford Research Institute'), type='location')] source=Document(metadata={'source': 'sem_and_relation_data.txt'}, page_content=' institutions like the MIT Media Lab and Harvard University. The focus is on applying quantum computing to solve complex problems and exploring blockchain technology for secure data transactions.\\nStanford Research Institute is also involved in partnerships with startups and tech incubators, fostering innovation in areas such as augmented reality, virtual reality, and IoT (Internet of Things). Their goal is to push the boundaries of what is possible in technological development and scientific research.\\n\\nSilicon Valley is a region in Northern California that is a global center')\n",
      "Graph stored successfully.\n",
      "Processing chunk 6: page_content=' global center for high technology and innovation. Located in the southern part of the San Francisco Bay Area, it corresponds roughly to the geographical area of the Santa Clara Valley.[1][2][3] The term \"Silicon Valley\" refers to the area in which high-tech business has proliferated in Northern California, and it also serves as a general metonym for California's high-tech business sector.\n",
      "\n",
      "The cities of Sunnyvale, Mountain View, Palo Alto and Menlo Park are frequently' metadata={'source': 'sem_and_relation_data.txt'}\n"
     ]
    },
    {
     "name": "stderr",
     "output_type": "stream",
     "text": [
      " 70%|███████   | 7/10 [00:38<00:26,  8.68s/it]"
     ]
    },
    {
     "name": "stdout",
     "output_type": "stream",
     "text": [
      "nodes=[Node(id='Silicon Valley', type='region', properties={'description': 'a region in Northern California'}), Node(id='San Francisco Bay Area', type='region', properties={'description': 'a region in California'}), Node(id='Santa Clara Valley', type='region', properties={'description': 'a valley in California'}), Node(id='Sunnyvale', type='city', properties={'description': 'a city in California'}), Node(id='Mountain View', type='city', properties={'description': 'a city in California'}), Node(id='Palo Alto', type='city', properties={'description': 'a city in California'}), Node(id='Menlo Park', type='city', properties={'description': 'a city in California'}), Node(id='California', type='state', properties={'description': 'a state in the United States'}), Node(id='Northern California', type='region', properties={'description': 'a region in California'})] relationships=[Relationship(source='Silicon Valley', target='Santa Clara Valley', type='locatedIn'), Relationship(source='Silicon Valley', target='San Francisco Bay Area', type='partOf'), Relationship(source='Silicon Valley', target='Northern California', type='locatedIn'), Relationship(source='Sunnyvale', target='Silicon Valley', type='locatedIn'), Relationship(source='Mountain View', target='Silicon Valley', type='locatedIn'), Relationship(source='Palo Alto', target='Silicon Valley', type='locatedIn'), Relationship(source='Menlo Park', target='Silicon Valley', type='locatedIn')]\n",
      "nodes: None, rels: None\n",
      "nodes=[Node(id='Silicon Valley', type='region', properties={'description': 'a region in Northern California'}), Node(id='San Francisco Bay Area', type='region', properties={'description': 'a region in California'}), Node(id='Santa Clara Valley', type='region', properties={'description': 'a valley in California'}), Node(id='Sunnyvale', type='city', properties={'description': 'a city in California'}), Node(id='Mountain View', type='city', properties={'description': 'a city in California'}), Node(id='Palo Alto', type='city', properties={'description': 'a city in California'}), Node(id='Menlo Park', type='city', properties={'description': 'a city in California'}), Node(id='California', type='state', properties={'description': 'a state in the United States'}), Node(id='Northern California', type='region', properties={'description': 'a region in California'})] relationships=[Relationship(source=Node(id='Silicon Valley'), target=Node(id='Santa Clara Valley'), type='locatedIn'), Relationship(source=Node(id='Silicon Valley'), target=Node(id='San Francisco Bay Area'), type='partOf'), Relationship(source=Node(id='Silicon Valley'), target=Node(id='Northern California'), type='locatedIn'), Relationship(source=Node(id='Sunnyvale'), target=Node(id='Silicon Valley'), type='locatedIn'), Relationship(source=Node(id='Mountain View'), target=Node(id='Silicon Valley'), type='locatedIn'), Relationship(source=Node(id='Palo Alto'), target=Node(id='Silicon Valley'), type='locatedIn'), Relationship(source=Node(id='Menlo Park'), target=Node(id='Silicon Valley'), type='locatedIn')] source=Document(metadata={'source': 'sem_and_relation_data.txt'}, page_content=' global center for high technology and innovation. Located in the southern part of the San Francisco Bay Area, it corresponds roughly to the geographical area of the Santa Clara Valley.[1][2][3] The term \"Silicon Valley\" refers to the area in which high-tech business has proliferated in Northern California, and it also serves as a general metonym for California\\'s high-tech business sector.\\n\\nThe cities of Sunnyvale, Mountain View, Palo Alto and Menlo Park are frequently')\n",
      "Graph stored successfully.\n",
      "Processing chunk 7: page_content=' are frequently cited as the birthplace of Silicon Valley. San Jose is Silicon Valley's largest city, the third-largest in California, and the 13th-most populous in the United States.[4] Other major Silicon Valley cities include Santa Clara, Redwood City and Cupertino. The San Jose Metropolitan Area has the third-highest GDP per capita in the world (after Zürich, Switzerland and Oslo, Norway), according to the Brookings Institution.[5] As of June 2021, it also' metadata={'source': 'sem_and_relation_data.txt'}\n"
     ]
    },
    {
     "name": "stderr",
     "output_type": "stream",
     "text": [
      " 80%|████████  | 8/10 [00:53<00:21, 10.82s/it]"
     ]
    },
    {
     "name": "stdout",
     "output_type": "stream",
     "text": [
      "nodes=[Node(id='San Jose', type='city', properties={'description': 'Largest city in Silicon Valley'}), Node(id='Silicon Valley', type='region', properties={'description': 'Birthplace of Silicon Valley'}), Node(id='California', type='state', properties={'description': 'Third-largest in the United States'}), Node(id='United States', type='country', properties={'description': '13th-most populous'}), Node(id='Santa Clara', type='city', properties={'description': 'Major city in Silicon Valley'}), Node(id='Redwood City', type='city', properties={'description': 'Major city in Silicon Valley'}), Node(id='Cupertino', type='city', properties={'description': 'Major city in Silicon Valley'}), Node(id='San Jose Metropolitan Area', type='metropolitan area', properties={'description': 'Third-highest GDP per capita in the world'}), Node(id='Zürich', type='city', properties={'description': 'Highest GDP per capita in the world'}), Node(id='Oslo', type='city', properties={'description': 'Second-highest GDP per capita in the world'}), Node(id='Brookings Institution', type='organization', properties={'description': 'Research organization'})] relationships=[Relationship(source='San Jose', target='Silicon Valley', type='part of'), Relationship(source='Silicon Valley', target='California', type='located in'), Relationship(source='California', target='United States', type='part of'), Relationship(source='Santa Clara', target='Silicon Valley', type='part of'), Relationship(source='Redwood City', target='Silicon Valley', type='part of'), Relationship(source='Cupertino', target='Silicon Valley', type='part of'), Relationship(source='San Jose Metropolitan Area', target='Silicon Valley', type='part of'), Relationship(source='San Jose Metropolitan Area', target='Brookings Institution', type='cited by')]\n",
      "nodes: None, rels: None\n",
      "nodes=[Node(id='San Jose', type='city', properties={'description': 'Largest city in Silicon Valley'}), Node(id='Silicon Valley', type='region', properties={'description': 'Birthplace of Silicon Valley'}), Node(id='California', type='state', properties={'description': 'Third-largest in the United States'}), Node(id='United States', type='country', properties={'description': '13th-most populous'}), Node(id='Santa Clara', type='city', properties={'description': 'Major city in Silicon Valley'}), Node(id='Redwood City', type='city', properties={'description': 'Major city in Silicon Valley'}), Node(id='Cupertino', type='city', properties={'description': 'Major city in Silicon Valley'}), Node(id='San Jose Metropolitan Area', type='metropolitan area', properties={'description': 'Third-highest GDP per capita in the world'}), Node(id='Zürich', type='city', properties={'description': 'Highest GDP per capita in the world'}), Node(id='Oslo', type='city', properties={'description': 'Second-highest GDP per capita in the world'}), Node(id='Brookings Institution', type='organization', properties={'description': 'Research organization'})] relationships=[Relationship(source=Node(id='San Jose'), target=Node(id='Silicon Valley'), type='part of'), Relationship(source=Node(id='Silicon Valley'), target=Node(id='California'), type='located in'), Relationship(source=Node(id='California'), target=Node(id='United States'), type='part of'), Relationship(source=Node(id='Santa Clara'), target=Node(id='Silicon Valley'), type='part of'), Relationship(source=Node(id='Redwood City'), target=Node(id='Silicon Valley'), type='part of'), Relationship(source=Node(id='Cupertino'), target=Node(id='Silicon Valley'), type='part of'), Relationship(source=Node(id='San Jose Metropolitan Area'), target=Node(id='Silicon Valley'), type='part of'), Relationship(source=Node(id='San Jose Metropolitan Area'), target=Node(id='Brookings Institution'), type='cited by')] source=Document(metadata={'source': 'sem_and_relation_data.txt'}, page_content=\" are frequently cited as the birthplace of Silicon Valley. San Jose is Silicon Valley's largest city, the third-largest in California, and the 13th-most populous in the United States.[4] Other major Silicon Valley cities include Santa Clara, Redwood City and Cupertino. The San Jose Metropolitan Area has the third-highest GDP per capita in the world (after Zürich, Switzerland and Oslo, Norway), according to the Brookings Institution.[5] As of June 2021, it also\")\n",
      "Graph stored successfully.\n",
      "Processing chunk 8: page_content=' it also had the highest percentage of homes valued at $1 million or more in the United States.[6]\n",
      "\n",
      "Silicon Valley is home to many of the world's largest high-tech corporations, including the headquarters of more than 30 businesses in the Fortune 1000, and thousands of startup companies. Silicon Valley also accounts for one-third of all of the venture capital investment in the United States, which has helped it to become a leading hub and startup ecosystem for high-tech innovation, although the' metadata={'source': 'sem_and_relation_data.txt'}\n"
     ]
    },
    {
     "name": "stderr",
     "output_type": "stream",
     "text": [
      " 90%|█████████ | 9/10 [01:07<00:11, 11.96s/it]"
     ]
    },
    {
     "name": "stdout",
     "output_type": "stream",
     "text": [
      "nodes=[Node(id='Silicon Valley', type='region', properties={'description': 'A region in the United States'}), Node(id='United States', type='country', properties={'description': 'A country in North America'})] relationships=[Relationship(source='Silicon Valley', target='United States', type='locatedIn')]\n",
      "nodes: None, rels: None\n",
      "nodes=[Node(id='Silicon Valley', type='region', properties={'description': 'A region in the United States'}), Node(id='United States', type='country', properties={'description': 'A country in North America'})] relationships=[Relationship(source=Node(id='Silicon Valley'), target=Node(id='United States'), type='locatedIn')] source=Document(metadata={'source': 'sem_and_relation_data.txt'}, page_content=\" it also had the highest percentage of homes valued at $1 million or more in the United States.[6]\\n\\nSilicon Valley is home to many of the world's largest high-tech corporations, including the headquarters of more than 30 businesses in the Fortune 1000, and thousands of startup companies. Silicon Valley also accounts for one-third of all of the venture capital investment in the United States, which has helped it to become a leading hub and startup ecosystem for high-tech innovation, although the\")\n",
      "Graph stored successfully.\n",
      "Processing chunk 9: page_content=' although the tech ecosystem has recently become more geographically dispersed.[7][8] It was in Silicon Valley that the silicon-based integrated circuit, the microprocessor, and the microcomputer, among other technologies, were developed. As of 2021, the region employed about a half million information technology workers.[9]\n",
      "' metadata={'source': 'sem_and_relation_data.txt'}\n"
     ]
    },
    {
     "name": "stderr",
     "output_type": "stream",
     "text": [
      "100%|██████████| 10/10 [01:18<00:00,  7.82s/it]"
     ]
    },
    {
     "name": "stdout",
     "output_type": "stream",
     "text": [
      "nodes=[Node(id='Silicon Valley', type='region', properties={'description': 'A region in California, USA'}), Node(id='integrated circuit', type='technology', properties={'description': 'A type of electronic circuit'}), Node(id='microprocessor', type='technology', properties={'description': 'A type of central processing unit'}), Node(id='microcomputer', type='technology', properties={'description': 'A type of small computer'}), Node(id='information technology workers', type='profession', properties={'description': 'People working in the information technology industry'})] relationships=[Relationship(source='Silicon Valley', target='integrated circuit', type='developed'), Relationship(source='Silicon Valley', target='microprocessor', type='developed'), Relationship(source='Silicon Valley', target='microcomputer', type='developed'), Relationship(source='Silicon Valley', target='information technology workers', type='employs')]\n",
      "nodes: None, rels: None\n",
      "nodes=[Node(id='Silicon Valley', type='region', properties={'description': 'A region in California, USA'}), Node(id='integrated circuit', type='technology', properties={'description': 'A type of electronic circuit'}), Node(id='microprocessor', type='technology', properties={'description': 'A type of central processing unit'}), Node(id='microcomputer', type='technology', properties={'description': 'A type of small computer'}), Node(id='information technology workers', type='profession', properties={'description': 'People working in the information technology industry'})] relationships=[Relationship(source=Node(id='Silicon Valley'), target=Node(id='integrated circuit'), type='developed'), Relationship(source=Node(id='Silicon Valley'), target=Node(id='microprocessor'), type='developed'), Relationship(source=Node(id='Silicon Valley'), target=Node(id='microcomputer'), type='developed'), Relationship(source=Node(id='Silicon Valley'), target=Node(id='information technology workers'), type='employs')] source=Document(metadata={'source': 'sem_and_relation_data.txt'}, page_content=' although the tech ecosystem has recently become more geographically dispersed.[7][8] It was in Silicon Valley that the silicon-based integrated circuit, the microprocessor, and the microcomputer, among other technologies, were developed. As of 2021, the region employed about a half million information technology workers.[9]\\n')\n",
      "Graph stored successfully.\n"
     ]
    },
    {
     "name": "stderr",
     "output_type": "stream",
     "text": [
      "\n"
     ]
    }
   ],
   "source": [
    "from tqdm import tqdm\n",
    "\n",
    "# Iterate over chunks and call extract_and_store_graph\n",
    "for i, d in tqdm(enumerate(documents), total=len(documents)):\n",
    "    print(f\"Processing chunk {i}: {d}\")\n",
    "    data = extract_and_store_graph(d)\n",
    "    print(\"Graph stored successfully.\")\n",
    "    \n"
   ]
  },
  {
   "cell_type": "code",
   "execution_count": 21,
   "metadata": {},
   "outputs": [
    {
     "name": "stdout",
     "output_type": "stream",
     "text": [
      "Node properties:\n",
      "Document {text: STRING, source: STRING, id: STRING}\n",
      "Organization {location: STRING, name: STRING, id: STRING, field: STRING, project: STRING, event: STRING, description: STRING}\n",
      "Person {id: STRING, name: STRING, profession: STRING, field: STRING}\n",
      "Node {id: STRING}\n",
      "Department {name: STRING, id: STRING, affiliation: STRING}\n",
      "Field {id: STRING, name: STRING}\n",
      "Concept {id: STRING, name: STRING, description: STRING}\n",
      "Location {id: STRING, name: STRING, region: STRING, geographicalarea: STRING, description: STRING}\n",
      "Publication {name: STRING, id: STRING, patentid: STRING}\n",
      "Paper {name: STRING, id: STRING, patentid: STRING, title: STRING}\n",
      "Event {location: STRING, name: STRING, id: STRING, frequency: STRING}\n",
      "Topic {name: STRING, id: STRING}\n",
      "Funding {name: STRING, id: STRING}\n",
      "Project {name: STRING, id: STRING}\n",
      "Institution {id: STRING, name: STRING, focus: STRING, partnerships: STRING}\n",
      "Region {location: STRING, name: STRING, description: STRING, id: STRING}\n",
      "City {islargestcityof: STRING, name: STRING, isthirteenthmostpopulousin: STRING, isthirdlargestin: STRING, id: STRING, ispartof: STRING, issecondhighestgdppercapitain: STRING, isthirdhighestgdppercapitain: STRING}\n",
      "Area {name: STRING, id: STRING, ispartof: STRING, hasthirdhighestgdppercapitain: STRING}\n",
      "Country {id: STRING}\n",
      "organization {location: STRING, id: STRING, name: STRING, description: STRING}\n",
      "person {id: STRING, title: STRING}\n",
      "university {id: STRING}\n",
      "company {id: STRING}\n",
      "paper {id: STRING, patentId: STRING}\n",
      "concept {description: STRING, id: STRING, name: STRING}\n",
      "location {id: STRING, description: STRING}\n",
      "researchPaper {id: STRING, patentId: STRING, title: STRING}\n",
      "field of study {id: STRING, name: STRING}\n",
      "institution {id: STRING, name: STRING}\n",
      "region {location: STRING, id: STRING, name: STRING, description: STRING}\n",
      "technology {id: STRING, name: STRING, description: STRING}\n",
      "city {id: STRING, description: STRING}\n",
      "state {id: STRING, description: STRING}\n",
      "country {id: STRING, description: STRING}\n",
      "metropolitan area {id: STRING, description: STRING}\n",
      "profession {description: STRING, id: STRING}\n",
      "Relationship properties:\n",
      "\n",
      "The relationships:\n",
      "(:Document)-[:MENTIONS]->(:person)\n",
      "(:Document)-[:MENTIONS]->(:organization)\n",
      "(:Document)-[:MENTIONS]->(:paper)\n",
      "(:Document)-[:MENTIONS]->(:university)\n",
      "(:Document)-[:MENTIONS]->(:company)\n",
      "(:Document)-[:MENTIONS]->(:Organization)\n",
      "(:Document)-[:MENTIONS]->(:Publication)\n",
      "(:Document)-[:MENTIONS]->(:Concept)\n",
      "(:Document)-[:MENTIONS]->(:Person)\n",
      "(:Document)-[:MENTIONS]->(:concept)\n",
      "(:Document)-[:MENTIONS]->(:location)\n",
      "(:Document)-[:MENTIONS]->(:Location)\n",
      "(:Document)-[:MENTIONS]->(:researchPaper)\n",
      "(:Document)-[:MENTIONS]->(:Paper)\n",
      "(:Document)-[:MENTIONS]->(:field of study)\n",
      "(:Document)-[:MENTIONS]->(:Project)\n",
      "(:Document)-[:MENTIONS]->(:Funding)\n",
      "(:Document)-[:MENTIONS]->(:Field)\n",
      "(:Document)-[:MENTIONS]->(:Event)\n",
      "(:Document)-[:MENTIONS]->(:Topic)\n",
      "(:Document)-[:MENTIONS]->(:Department)\n",
      "(:Document)-[:MENTIONS]->(:technology)\n",
      "(:Document)-[:MENTIONS]->(:institution)\n",
      "(:Document)-[:MENTIONS]->(:region)\n",
      "(:Document)-[:MENTIONS]->(:Institution)\n",
      "(:Document)-[:MENTIONS]->(:Region)\n",
      "(:Document)-[:MENTIONS]->(:city)\n",
      "(:Document)-[:MENTIONS]->(:state)\n",
      "(:Document)-[:MENTIONS]->(:metropolitan area)\n",
      "(:Document)-[:MENTIONS]->(:country)\n",
      "(:Document)-[:MENTIONS]->(:City)\n",
      "(:Document)-[:MENTIONS]->(:Area)\n",
      "(:Document)-[:MENTIONS]->(:profession)\n",
      "(:Organization)-[:LEDBY]->(:Person)\n",
      "(:Organization)-[:HOSTS]->(:Event)\n",
      "(:Organization)-[:HOSTS]->(:Concept)\n",
      "(:Organization)-[:COLLABORATESWITH]->(:Organization)\n",
      "(:Organization)-[:WORKS_ON]->(:Concept)\n",
      "(:Person)-[:PUBLISHED]->(:Publication)\n",
      "(:Person)-[:FOCUSESON]->(:Concept)\n",
      "(:Node)-[:ADVANCESIN]->(:Node)\n",
      "(:Node)-[:LEDBY]->(:Node)\n",
      "(:Node)-[:LOCATEDIN]->(:Node)\n",
      "(:Node)-[:RELATEDTO]->(:Node)\n",
      "(:Node)-[:RESEARCHES]->(:Node)\n",
      "(:Node)-[:COLLABORATESWITH]->(:Node)\n",
      "(:Node)-[:ANALYZES]->(:Node)\n",
      "(:Node)-[:FOCUSESON]->(:Node)\n",
      "(:Node)-[:INTEGRATES]->(:Node)\n",
      "(:Node)-[:DETAILS]->(:Node)\n",
      "(:Node)-[:COLLABORATION]->(:Node)\n",
      "(:Node)-[:FOCUS]->(:Node)\n",
      "(:Node)-[:PARTNERSHIP]->(:Node)\n",
      "(:Node)-[:PUBLISHED]->(:Node)\n",
      "(:Node)-[:LOCATION]->(:Node)\n",
      "(:Node)-[:DEVELOPMENT]->(:Node)\n",
      "(:Node)-[:DEVELOPED]->(:Node)\n",
      "(:Node)-[:PARTOF]->(:Node)\n",
      "(:Node)-[:LOCATED_IN]->(:Node)\n",
      "(:Node)-[:EMPLOYS]->(:Node)\n",
      "(:Node)-[:LEADER]->(:Node)\n",
      "(:Node)-[:LEADS]->(:Node)\n",
      "(:Node)-[:AUTHOR]->(:Node)\n",
      "(:Node)-[:COLLABORATES]->(:Node)\n",
      "(:Node)-[:USES]->(:Node)\n",
      "(:Node)-[:DEVELOPS]->(:Node)\n",
      "(:Node)-[:HOSTS_CONFERENCES_ON]->(:Node)\n",
      "(:Node)-[:ADDRESSES]->(:Node)\n",
      "(:Node)-[:HOSTS_CONFERENCES_ABOUT]->(:Node)\n",
      "(:Node)-[:EXPLORES]->(:Node)\n",
      "(:Node)-[:PART_OF]->(:Node)\n",
      "(:Node)-[:CITED_BY]->(:Node)\n",
      "(:Department)-[:AFFILIATED_WITH]->(:Organization)\n",
      "(:Concept)-[:ANALYZES]->(:Concept)\n",
      "(:Concept)-[:PREDICTS]->(:Concept)\n",
      "(:Concept)-[:UNDERSTANDS]->(:Concept)\n",
      "(:Concept)-[:ENHANCES]->(:Concept)\n",
      "(:Concept)-[:DISCUSSES]->(:Concept)\n",
      "(:Location)-[:INCLUDES]->(:Location)\n",
      "(:Event)-[:INVOLVES]->(:Person)\n",
      "(:Event)-[:ADDRESSES]->(:Concept)\n",
      "(:Event)-[:EXPLORES]->(:Topic)\n",
      "(:Event)-[:DISCUSSES]->(:Field)\n",
      "(:Event)-[:DISCUSSES]->(:Concept)\n",
      "(:Project)-[:INVOLVES]->(:Organization)\n",
      "(:Project)-[:EXTENDS_TO]->(:Funding)\n",
      "(:Project)-[:EXTENDS_TO]->(:Publication)\n",
      "(:Region)-[:HASMAJORCITIES]->(:City)\n",
      "(:City)-[:ISTHIRTEENTHMOSTPOPULOUSIN]->(:Country)\n",
      "(:City)-[:ISLARGESTCITYOF]->(:Region)\n",
      "(:City)-[:ISTHIRDLARGESTIN]->(:Region)\n",
      "(:City)-[:ISSECONDHIGHESTGDPPERCAPITAIN]->(:Region)\n",
      "(:City)-[:ISTHIRDHIGHESTGDPPERCAPITAIN]->(:Region)\n",
      "(:Area)-[:ISPARTOF]->(:Region)\n",
      "(:Area)-[:HASTHIRDHIGHESTGDPPERCAPITAIN]->(:Region)\n"
     ]
    }
   ],
   "source": [
    "# Query the knowledge graph in a RAG application\n",
    "from langchain.chains import GraphCypherQAChain\n",
    "\n",
    "graph.refresh_schema()\n",
    "print(graph.schema)\n",
    "\n",
    "\n",
    "cypher_chain = GraphCypherQAChain.from_llm(\n",
    "    graph=graph,\n",
    "    cypher_llm=llm,\n",
    "    qa_llm=llm,\n",
    "    validate_cypher=True, # Validate relationship directions\n",
    "    # return_intermediate_steps=True,\n",
    "    verbose=True\n",
    ")\n"
   ]
  },
  {
   "cell_type": "code",
   "execution_count": 24,
   "metadata": {},
   "outputs": [
    {
     "name": "stdout",
     "output_type": "stream",
     "text": [
      "\n",
      "\n",
      "\u001b[1m> Entering new GraphCypherQAChain chain...\u001b[0m\n",
      "Generated Cypher:\n",
      "\u001b[32;1m\u001b[1;3mMATCH (o:Organization {name: \"Stanford Research Institute\"}) RETURN o;\u001b[0m\n",
      "Full Context:\n",
      "\u001b[32;1m\u001b[1;3m[{'o': {'field': 'research in artificial intelligence', 'name': 'Stanford Research Institute', 'location': 'Silicon Valley', 'id': 'Stanford Research Institute'}}]\u001b[0m\n",
      "\n",
      "\u001b[1m> Finished chain.\u001b[0m\n"
     ]
    },
    {
     "data": {
      "text/plain": [
       "{'query': 'Stanford Research Institute',\n",
       " 'result': 'Stanford Research Institute is a research institute located in Silicon Valley, focused on research in artificial intelligence.'}"
      ]
     },
     "execution_count": 24,
     "metadata": {},
     "output_type": "execute_result"
    }
   ],
   "source": [
    "cypher_chain.invoke({\"query\": \"Stanford Research Institute\"})\n"
   ]
  },
  {
   "cell_type": "markdown",
   "metadata": {},
   "source": [
    "## 2nd Approach"
   ]
  },
  {
   "cell_type": "code",
   "execution_count": 25,
   "metadata": {},
   "outputs": [
    {
     "name": "stderr",
     "output_type": "stream",
     "text": [
      "/opt/miniconda3/envs/lang_agent_311/lib/python3.11/site-packages/langchain_core/_api/deprecation.py:141: LangChainDeprecationWarning: The class `HuggingFaceEmbeddings` was deprecated in LangChain 0.2.2 and will be removed in 0.3.0. An updated version of the class exists in the langchain-huggingface package and should be used instead. To use it run `pip install -U langchain-huggingface` and import as `from langchain_huggingface import HuggingFaceEmbeddings`.\n",
      "  warn_deprecated(\n",
      "Received notification from DBMS server: {severity: WARNING} {code: Neo.ClientNotification.Statement.FeatureDeprecationWarning} {category: DEPRECATION} {title: This feature is deprecated and will be removed in future versions.} {description: CALL subquery without a variable scope clause is now deprecated. Use CALL (row) { ... }} {position: line: 1, column: 21, offset: 20} for query: \"UNWIND $data AS row CALL { WITH row MERGE (c:`Chunk` {id: row.id}) WITH c, row CALL db.create.setNodeVectorProperty(c, 'embedding', row.embedding) SET c.`text` = row.text SET c += row.metadata } IN TRANSACTIONS OF 1000 ROWS \"\n"
     ]
    },
    {
     "data": {
      "text/plain": [
       "[(Document(metadata={'source': 'sem_and_relation_data.txt'}, page_content='machine learning\", and \"data science\" are frequently discussed. \\nThe goal is to integrate cutting-edge technologies to solve real-world problems, with collaborations extending to various tech companies and academic institutions\\n\\nIn the vibrant ecosystem of Silicon Valley, Stanford Research Institute (SRI) has become a cornerstone for innovations in artificial intelligence and machine learning. Under the leadership of Dr. John Smith, a distinguished figure in the field of computer science, the institute is advancing the development of sophisticated natural language processing'),\n",
       "  0.5843997001647949),\n",
       " (Document(metadata={'source': 'sem_and_relation_data.txt'}, page_content='\\nIn the heart of Silicon Valley, the Stanford Research Institute (SRI) is pioneering groundbreaking research in artificial intelligence. \\nDr. John Smith, a renowned computer scientist, leads a team focused on developing advanced natural language processing algorithms. \\nThe team recently published a paper titled \"Innovations in AI: Beyond the Basics\" under patent ID US 2023045678A1, \\nwhich outlines their novel approach to machine learning.\\n\\nStanford University collaborates closely with Google'),\n",
       "  0.5756001472473145)]"
      ]
     },
     "execution_count": 25,
     "metadata": {},
     "output_type": "execute_result"
    }
   ],
   "source": [
    "from langchain.docstore.document import Document\n",
    "from langchain.text_splitter import CharacterTextSplitter\n",
    "from langchain_community.document_loaders import TextLoader\n",
    "from langchain_community.vectorstores import Neo4jVector\n",
    "from langchain.embeddings.huggingface import HuggingFaceEmbeddings\n",
    "\n",
    "embeddings = HuggingFaceEmbeddings(model_name=embeddings_model)\n",
    "\n",
    "\n",
    "# The Neo4jVector Module will connect to Neo4j and create a vector index if needed.\n",
    "\n",
    "db = Neo4jVector.from_documents(\n",
    "    documents, embeddings, url=url, username=username, password=password\n",
    ")\n",
    "\n",
    "query = \"what is this standford all talking about ?\"\n",
    "docs_with_score = db.similarity_search_with_score(query, k=2)\n",
    "docs_with_score"
   ]
  },
  {
   "cell_type": "code",
   "execution_count": 27,
   "metadata": {},
   "outputs": [
    {
     "name": "stderr",
     "output_type": "stream",
     "text": [
      "/opt/miniconda3/envs/lang_agent_311/lib/python3.11/site-packages/langchain_core/_api/deprecation.py:141: LangChainDeprecationWarning: The method `Chain.run` was deprecated in langchain 0.1.0 and will be removed in 1.0. Use invoke instead.\n",
      "  warn_deprecated(\n"
     ]
    },
    {
     "name": "stdout",
     "output_type": "stream",
     "text": [
      "\n",
      "\n",
      "\u001b[1m> Entering new GraphCypherQAChain chain...\u001b[0m\n",
      "Generated Cypher:\n",
      "\u001b[32;1m\u001b[1;3mMATCH (p:Person {name: \"John Smith\"}) RETURN p;\u001b[0m\n",
      "Full Context:\n",
      "\u001b[32;1m\u001b[1;3m[]\u001b[0m\n",
      "\n",
      "\u001b[1m> Finished chain.\u001b[0m\n"
     ]
    },
    {
     "data": {
      "text/plain": [
       "\"I don't know the answer.\""
      ]
     },
     "execution_count": 27,
     "metadata": {},
     "output_type": "execute_result"
    }
   ],
   "source": [
    "from langchain.chains import GraphCypherQAChain\n",
    "from langchain_community.graphs import Neo4jGraph\n",
    "from langchain_openai import ChatOpenAI\n",
    "\n",
    "graph = Neo4jGraph(url=url, username=username, password=password)\n",
    "\n",
    "\n",
    "chain = GraphCypherQAChain.from_llm(\n",
    "    llm, graph=graph, verbose=True\n",
    ")\n",
    "\n",
    "chain.run(\"Who is john smith\")"
   ]
  },
  {
   "cell_type": "code",
   "execution_count": null,
   "metadata": {},
   "outputs": [],
   "source": []
  }
 ],
 "metadata": {
  "kernelspec": {
   "display_name": "lang_agent_311",
   "language": "python",
   "name": "python3"
  },
  "language_info": {
   "codemirror_mode": {
    "name": "ipython",
    "version": 3
   },
   "file_extension": ".py",
   "mimetype": "text/x-python",
   "name": "python",
   "nbconvert_exporter": "python",
   "pygments_lexer": "ipython3",
   "version": "3.11.9"
  }
 },
 "nbformat": 4,
 "nbformat_minor": 2
}
